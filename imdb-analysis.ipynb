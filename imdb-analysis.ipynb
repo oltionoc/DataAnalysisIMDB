{
 "cells": [
  {
   "cell_type": "code",
   "execution_count": 1,
   "id": "fb0ed618",
   "metadata": {
    "_cell_guid": "b1076dfc-b9ad-4769-8c92-a6c4dae69d19",
    "_uuid": "8f2839f25d086af736a60e9eeb907d3b93b6e0e5",
    "execution": {
     "iopub.execute_input": "2024-10-23T12:57:12.798613Z",
     "iopub.status.busy": "2024-10-23T12:57:12.797757Z",
     "iopub.status.idle": "2024-10-23T12:57:15.014377Z",
     "shell.execute_reply": "2024-10-23T12:57:15.013339Z"
    },
    "papermill": {
     "duration": 2.22939,
     "end_time": "2024-10-23T12:57:15.016605",
     "exception": false,
     "start_time": "2024-10-23T12:57:12.787215",
     "status": "completed"
    },
    "tags": []
   },
   "outputs": [
    {
     "name": "stdout",
     "output_type": "stream",
     "text": [
      "/kaggle/input/imdb-dataset-of-top-1000-movies-and-tv-shows/imdb_top_1000.csv\n"
     ]
    }
   ],
   "source": [
    "# This Python 3 environment comes with many helpful analytics libraries installed\n",
    "# It is defined by the kaggle/python Docker image: https://github.com/kaggle/docker-python\n",
    "# For example, here's several helpful packages to load\n",
    "\n",
    "import numpy as np # linear algebra\n",
    "import pandas as pd # data processing, CSV file I/O (e.g. pd.read_csv)\n",
    "import matplotlib.pyplot as plt\n",
    "import seaborn as sns\n",
    "import warnings\n",
    "warnings.filterwarnings('ignore')\n",
    "plt.style.use('bmh')\n",
    "# Input data files are available in the read-only \"../input/\" directory\n",
    "# For example, running this (by clicking run or pressing Shift+Enter) will list all files under the input directory\n",
    "\n",
    "import os\n",
    "for dirname, _, filenames in os.walk('/kaggle/input'):\n",
    "    for filename in filenames:\n",
    "        print(os.path.join(dirname, filename))\n",
    "\n",
    "# You can write up to 20GB to the current directory (/kaggle/working/) that gets preserved as output when you create a version using \"Save & Run All\" \n",
    "# You can also write temporary files to /kaggle/temp/, but they won't be saved outside of the current session"
   ]
  },
  {
   "cell_type": "code",
   "execution_count": 2,
   "id": "be37a02b",
   "metadata": {
    "execution": {
     "iopub.execute_input": "2024-10-23T12:57:15.035916Z",
     "iopub.status.busy": "2024-10-23T12:57:15.034718Z",
     "iopub.status.idle": "2024-10-23T12:57:15.065865Z",
     "shell.execute_reply": "2024-10-23T12:57:15.064972Z"
    },
    "papermill": {
     "duration": 0.043039,
     "end_time": "2024-10-23T12:57:15.068195",
     "exception": false,
     "start_time": "2024-10-23T12:57:15.025156",
     "status": "completed"
    },
    "tags": []
   },
   "outputs": [],
   "source": [
    "df = pd.read_csv(\"/kaggle/input/imdb-dataset-of-top-1000-movies-and-tv-shows/imdb_top_1000.csv\")"
   ]
  },
  {
   "cell_type": "code",
   "execution_count": 3,
   "id": "ac4edf63",
   "metadata": {
    "execution": {
     "iopub.execute_input": "2024-10-23T12:57:15.088342Z",
     "iopub.status.busy": "2024-10-23T12:57:15.087421Z",
     "iopub.status.idle": "2024-10-23T12:57:15.113393Z",
     "shell.execute_reply": "2024-10-23T12:57:15.112402Z"
    },
    "papermill": {
     "duration": 0.037663,
     "end_time": "2024-10-23T12:57:15.115430",
     "exception": false,
     "start_time": "2024-10-23T12:57:15.077767",
     "status": "completed"
    },
    "tags": []
   },
   "outputs": [
    {
     "data": {
      "text/html": [
       "<div>\n",
       "<style scoped>\n",
       "    .dataframe tbody tr th:only-of-type {\n",
       "        vertical-align: middle;\n",
       "    }\n",
       "\n",
       "    .dataframe tbody tr th {\n",
       "        vertical-align: top;\n",
       "    }\n",
       "\n",
       "    .dataframe thead th {\n",
       "        text-align: right;\n",
       "    }\n",
       "</style>\n",
       "<table border=\"1\" class=\"dataframe\">\n",
       "  <thead>\n",
       "    <tr style=\"text-align: right;\">\n",
       "      <th></th>\n",
       "      <th>Poster_Link</th>\n",
       "      <th>Series_Title</th>\n",
       "      <th>Released_Year</th>\n",
       "      <th>Certificate</th>\n",
       "      <th>Runtime</th>\n",
       "      <th>Genre</th>\n",
       "      <th>IMDB_Rating</th>\n",
       "      <th>Overview</th>\n",
       "      <th>Meta_score</th>\n",
       "      <th>Director</th>\n",
       "      <th>Star1</th>\n",
       "      <th>Star2</th>\n",
       "      <th>Star3</th>\n",
       "      <th>Star4</th>\n",
       "      <th>No_of_Votes</th>\n",
       "      <th>Gross</th>\n",
       "    </tr>\n",
       "  </thead>\n",
       "  <tbody>\n",
       "    <tr>\n",
       "      <th>0</th>\n",
       "      <td>https://m.media-amazon.com/images/M/MV5BMDFkYT...</td>\n",
       "      <td>The Shawshank Redemption</td>\n",
       "      <td>1994</td>\n",
       "      <td>A</td>\n",
       "      <td>142 min</td>\n",
       "      <td>Drama</td>\n",
       "      <td>9.3</td>\n",
       "      <td>Two imprisoned men bond over a number of years...</td>\n",
       "      <td>80.0</td>\n",
       "      <td>Frank Darabont</td>\n",
       "      <td>Tim Robbins</td>\n",
       "      <td>Morgan Freeman</td>\n",
       "      <td>Bob Gunton</td>\n",
       "      <td>William Sadler</td>\n",
       "      <td>2343110</td>\n",
       "      <td>28,341,469</td>\n",
       "    </tr>\n",
       "    <tr>\n",
       "      <th>1</th>\n",
       "      <td>https://m.media-amazon.com/images/M/MV5BM2MyNj...</td>\n",
       "      <td>The Godfather</td>\n",
       "      <td>1972</td>\n",
       "      <td>A</td>\n",
       "      <td>175 min</td>\n",
       "      <td>Crime, Drama</td>\n",
       "      <td>9.2</td>\n",
       "      <td>An organized crime dynasty's aging patriarch t...</td>\n",
       "      <td>100.0</td>\n",
       "      <td>Francis Ford Coppola</td>\n",
       "      <td>Marlon Brando</td>\n",
       "      <td>Al Pacino</td>\n",
       "      <td>James Caan</td>\n",
       "      <td>Diane Keaton</td>\n",
       "      <td>1620367</td>\n",
       "      <td>134,966,411</td>\n",
       "    </tr>\n",
       "    <tr>\n",
       "      <th>2</th>\n",
       "      <td>https://m.media-amazon.com/images/M/MV5BMTMxNT...</td>\n",
       "      <td>The Dark Knight</td>\n",
       "      <td>2008</td>\n",
       "      <td>UA</td>\n",
       "      <td>152 min</td>\n",
       "      <td>Action, Crime, Drama</td>\n",
       "      <td>9.0</td>\n",
       "      <td>When the menace known as the Joker wreaks havo...</td>\n",
       "      <td>84.0</td>\n",
       "      <td>Christopher Nolan</td>\n",
       "      <td>Christian Bale</td>\n",
       "      <td>Heath Ledger</td>\n",
       "      <td>Aaron Eckhart</td>\n",
       "      <td>Michael Caine</td>\n",
       "      <td>2303232</td>\n",
       "      <td>534,858,444</td>\n",
       "    </tr>\n",
       "    <tr>\n",
       "      <th>3</th>\n",
       "      <td>https://m.media-amazon.com/images/M/MV5BMWMwMG...</td>\n",
       "      <td>The Godfather: Part II</td>\n",
       "      <td>1974</td>\n",
       "      <td>A</td>\n",
       "      <td>202 min</td>\n",
       "      <td>Crime, Drama</td>\n",
       "      <td>9.0</td>\n",
       "      <td>The early life and career of Vito Corleone in ...</td>\n",
       "      <td>90.0</td>\n",
       "      <td>Francis Ford Coppola</td>\n",
       "      <td>Al Pacino</td>\n",
       "      <td>Robert De Niro</td>\n",
       "      <td>Robert Duvall</td>\n",
       "      <td>Diane Keaton</td>\n",
       "      <td>1129952</td>\n",
       "      <td>57,300,000</td>\n",
       "    </tr>\n",
       "    <tr>\n",
       "      <th>4</th>\n",
       "      <td>https://m.media-amazon.com/images/M/MV5BMWU4N2...</td>\n",
       "      <td>12 Angry Men</td>\n",
       "      <td>1957</td>\n",
       "      <td>U</td>\n",
       "      <td>96 min</td>\n",
       "      <td>Crime, Drama</td>\n",
       "      <td>9.0</td>\n",
       "      <td>A jury holdout attempts to prevent a miscarria...</td>\n",
       "      <td>96.0</td>\n",
       "      <td>Sidney Lumet</td>\n",
       "      <td>Henry Fonda</td>\n",
       "      <td>Lee J. Cobb</td>\n",
       "      <td>Martin Balsam</td>\n",
       "      <td>John Fiedler</td>\n",
       "      <td>689845</td>\n",
       "      <td>4,360,000</td>\n",
       "    </tr>\n",
       "  </tbody>\n",
       "</table>\n",
       "</div>"
      ],
      "text/plain": [
       "                                         Poster_Link  \\\n",
       "0  https://m.media-amazon.com/images/M/MV5BMDFkYT...   \n",
       "1  https://m.media-amazon.com/images/M/MV5BM2MyNj...   \n",
       "2  https://m.media-amazon.com/images/M/MV5BMTMxNT...   \n",
       "3  https://m.media-amazon.com/images/M/MV5BMWMwMG...   \n",
       "4  https://m.media-amazon.com/images/M/MV5BMWU4N2...   \n",
       "\n",
       "               Series_Title Released_Year Certificate  Runtime  \\\n",
       "0  The Shawshank Redemption          1994           A  142 min   \n",
       "1             The Godfather          1972           A  175 min   \n",
       "2           The Dark Knight          2008          UA  152 min   \n",
       "3    The Godfather: Part II          1974           A  202 min   \n",
       "4              12 Angry Men          1957           U   96 min   \n",
       "\n",
       "                  Genre  IMDB_Rating  \\\n",
       "0                 Drama          9.3   \n",
       "1          Crime, Drama          9.2   \n",
       "2  Action, Crime, Drama          9.0   \n",
       "3          Crime, Drama          9.0   \n",
       "4          Crime, Drama          9.0   \n",
       "\n",
       "                                            Overview  Meta_score  \\\n",
       "0  Two imprisoned men bond over a number of years...        80.0   \n",
       "1  An organized crime dynasty's aging patriarch t...       100.0   \n",
       "2  When the menace known as the Joker wreaks havo...        84.0   \n",
       "3  The early life and career of Vito Corleone in ...        90.0   \n",
       "4  A jury holdout attempts to prevent a miscarria...        96.0   \n",
       "\n",
       "               Director           Star1           Star2          Star3  \\\n",
       "0        Frank Darabont     Tim Robbins  Morgan Freeman     Bob Gunton   \n",
       "1  Francis Ford Coppola   Marlon Brando       Al Pacino     James Caan   \n",
       "2     Christopher Nolan  Christian Bale    Heath Ledger  Aaron Eckhart   \n",
       "3  Francis Ford Coppola       Al Pacino  Robert De Niro  Robert Duvall   \n",
       "4          Sidney Lumet     Henry Fonda     Lee J. Cobb  Martin Balsam   \n",
       "\n",
       "            Star4  No_of_Votes        Gross  \n",
       "0  William Sadler      2343110   28,341,469  \n",
       "1    Diane Keaton      1620367  134,966,411  \n",
       "2   Michael Caine      2303232  534,858,444  \n",
       "3    Diane Keaton      1129952   57,300,000  \n",
       "4    John Fiedler       689845    4,360,000  "
      ]
     },
     "execution_count": 3,
     "metadata": {},
     "output_type": "execute_result"
    }
   ],
   "source": [
    "df.head()"
   ]
  },
  {
   "cell_type": "markdown",
   "id": "57ca960a",
   "metadata": {
    "papermill": {
     "duration": 0.008418,
     "end_time": "2024-10-23T12:57:15.132632",
     "exception": false,
     "start_time": "2024-10-23T12:57:15.124214",
     "status": "completed"
    },
    "tags": []
   },
   "source": [
    "# Data Info"
   ]
  },
  {
   "cell_type": "code",
   "execution_count": 4,
   "id": "353035dc",
   "metadata": {
    "execution": {
     "iopub.execute_input": "2024-10-23T12:57:15.151058Z",
     "iopub.status.busy": "2024-10-23T12:57:15.150679Z",
     "iopub.status.idle": "2024-10-23T12:57:15.175039Z",
     "shell.execute_reply": "2024-10-23T12:57:15.173756Z"
    },
    "papermill": {
     "duration": 0.036096,
     "end_time": "2024-10-23T12:57:15.177149",
     "exception": false,
     "start_time": "2024-10-23T12:57:15.141053",
     "status": "completed"
    },
    "tags": []
   },
   "outputs": [
    {
     "name": "stdout",
     "output_type": "stream",
     "text": [
      "<class 'pandas.core.frame.DataFrame'>\n",
      "RangeIndex: 1000 entries, 0 to 999\n",
      "Data columns (total 16 columns):\n",
      " #   Column         Non-Null Count  Dtype  \n",
      "---  ------         --------------  -----  \n",
      " 0   Poster_Link    1000 non-null   object \n",
      " 1   Series_Title   1000 non-null   object \n",
      " 2   Released_Year  1000 non-null   object \n",
      " 3   Certificate    899 non-null    object \n",
      " 4   Runtime        1000 non-null   object \n",
      " 5   Genre          1000 non-null   object \n",
      " 6   IMDB_Rating    1000 non-null   float64\n",
      " 7   Overview       1000 non-null   object \n",
      " 8   Meta_score     843 non-null    float64\n",
      " 9   Director       1000 non-null   object \n",
      " 10  Star1          1000 non-null   object \n",
      " 11  Star2          1000 non-null   object \n",
      " 12  Star3          1000 non-null   object \n",
      " 13  Star4          1000 non-null   object \n",
      " 14  No_of_Votes    1000 non-null   int64  \n",
      " 15  Gross          831 non-null    object \n",
      "dtypes: float64(2), int64(1), object(13)\n",
      "memory usage: 125.1+ KB\n"
     ]
    }
   ],
   "source": [
    "df.info()"
   ]
  },
  {
   "cell_type": "code",
   "execution_count": 5,
   "id": "5d69379c",
   "metadata": {
    "execution": {
     "iopub.execute_input": "2024-10-23T12:57:15.196311Z",
     "iopub.status.busy": "2024-10-23T12:57:15.195690Z",
     "iopub.status.idle": "2024-10-23T12:57:15.216105Z",
     "shell.execute_reply": "2024-10-23T12:57:15.215156Z"
    },
    "papermill": {
     "duration": 0.032254,
     "end_time": "2024-10-23T12:57:15.218178",
     "exception": false,
     "start_time": "2024-10-23T12:57:15.185924",
     "status": "completed"
    },
    "tags": []
   },
   "outputs": [
    {
     "data": {
      "text/html": [
       "<div>\n",
       "<style scoped>\n",
       "    .dataframe tbody tr th:only-of-type {\n",
       "        vertical-align: middle;\n",
       "    }\n",
       "\n",
       "    .dataframe tbody tr th {\n",
       "        vertical-align: top;\n",
       "    }\n",
       "\n",
       "    .dataframe thead th {\n",
       "        text-align: right;\n",
       "    }\n",
       "</style>\n",
       "<table border=\"1\" class=\"dataframe\">\n",
       "  <thead>\n",
       "    <tr style=\"text-align: right;\">\n",
       "      <th></th>\n",
       "      <th>IMDB_Rating</th>\n",
       "      <th>Meta_score</th>\n",
       "      <th>No_of_Votes</th>\n",
       "    </tr>\n",
       "  </thead>\n",
       "  <tbody>\n",
       "    <tr>\n",
       "      <th>count</th>\n",
       "      <td>1000.000000</td>\n",
       "      <td>843.000000</td>\n",
       "      <td>1.000000e+03</td>\n",
       "    </tr>\n",
       "    <tr>\n",
       "      <th>mean</th>\n",
       "      <td>7.949300</td>\n",
       "      <td>77.971530</td>\n",
       "      <td>2.736929e+05</td>\n",
       "    </tr>\n",
       "    <tr>\n",
       "      <th>std</th>\n",
       "      <td>0.275491</td>\n",
       "      <td>12.376099</td>\n",
       "      <td>3.273727e+05</td>\n",
       "    </tr>\n",
       "    <tr>\n",
       "      <th>min</th>\n",
       "      <td>7.600000</td>\n",
       "      <td>28.000000</td>\n",
       "      <td>2.508800e+04</td>\n",
       "    </tr>\n",
       "    <tr>\n",
       "      <th>25%</th>\n",
       "      <td>7.700000</td>\n",
       "      <td>70.000000</td>\n",
       "      <td>5.552625e+04</td>\n",
       "    </tr>\n",
       "    <tr>\n",
       "      <th>50%</th>\n",
       "      <td>7.900000</td>\n",
       "      <td>79.000000</td>\n",
       "      <td>1.385485e+05</td>\n",
       "    </tr>\n",
       "    <tr>\n",
       "      <th>75%</th>\n",
       "      <td>8.100000</td>\n",
       "      <td>87.000000</td>\n",
       "      <td>3.741612e+05</td>\n",
       "    </tr>\n",
       "    <tr>\n",
       "      <th>max</th>\n",
       "      <td>9.300000</td>\n",
       "      <td>100.000000</td>\n",
       "      <td>2.343110e+06</td>\n",
       "    </tr>\n",
       "  </tbody>\n",
       "</table>\n",
       "</div>"
      ],
      "text/plain": [
       "       IMDB_Rating  Meta_score   No_of_Votes\n",
       "count  1000.000000  843.000000  1.000000e+03\n",
       "mean      7.949300   77.971530  2.736929e+05\n",
       "std       0.275491   12.376099  3.273727e+05\n",
       "min       7.600000   28.000000  2.508800e+04\n",
       "25%       7.700000   70.000000  5.552625e+04\n",
       "50%       7.900000   79.000000  1.385485e+05\n",
       "75%       8.100000   87.000000  3.741612e+05\n",
       "max       9.300000  100.000000  2.343110e+06"
      ]
     },
     "execution_count": 5,
     "metadata": {},
     "output_type": "execute_result"
    }
   ],
   "source": [
    "df.describe()"
   ]
  },
  {
   "cell_type": "code",
   "execution_count": 6,
   "id": "f5daff9b",
   "metadata": {
    "execution": {
     "iopub.execute_input": "2024-10-23T12:57:15.238734Z",
     "iopub.status.busy": "2024-10-23T12:57:15.238075Z",
     "iopub.status.idle": "2024-10-23T12:57:15.244095Z",
     "shell.execute_reply": "2024-10-23T12:57:15.243181Z"
    },
    "papermill": {
     "duration": 0.017817,
     "end_time": "2024-10-23T12:57:15.245993",
     "exception": false,
     "start_time": "2024-10-23T12:57:15.228176",
     "status": "completed"
    },
    "tags": []
   },
   "outputs": [
    {
     "data": {
      "text/plain": [
       "(1000, 16)"
      ]
     },
     "execution_count": 6,
     "metadata": {},
     "output_type": "execute_result"
    }
   ],
   "source": [
    "df.shape"
   ]
  },
  {
   "cell_type": "code",
   "execution_count": 7,
   "id": "17618374",
   "metadata": {
    "execution": {
     "iopub.execute_input": "2024-10-23T12:57:15.265413Z",
     "iopub.status.busy": "2024-10-23T12:57:15.264773Z",
     "iopub.status.idle": "2024-10-23T12:57:15.273371Z",
     "shell.execute_reply": "2024-10-23T12:57:15.272490Z"
    },
    "papermill": {
     "duration": 0.020454,
     "end_time": "2024-10-23T12:57:15.275308",
     "exception": false,
     "start_time": "2024-10-23T12:57:15.254854",
     "status": "completed"
    },
    "tags": []
   },
   "outputs": [
    {
     "data": {
      "text/plain": [
       "Poster_Link        0\n",
       "Series_Title       0\n",
       "Released_Year      0\n",
       "Certificate      101\n",
       "Runtime            0\n",
       "Genre              0\n",
       "IMDB_Rating        0\n",
       "Overview           0\n",
       "Meta_score       157\n",
       "Director           0\n",
       "Star1              0\n",
       "Star2              0\n",
       "Star3              0\n",
       "Star4              0\n",
       "No_of_Votes        0\n",
       "Gross            169\n",
       "dtype: int64"
      ]
     },
     "execution_count": 7,
     "metadata": {},
     "output_type": "execute_result"
    }
   ],
   "source": [
    "df.isna().sum()"
   ]
  },
  {
   "cell_type": "code",
   "execution_count": 8,
   "id": "24b88c93",
   "metadata": {
    "execution": {
     "iopub.execute_input": "2024-10-23T12:57:15.294919Z",
     "iopub.status.busy": "2024-10-23T12:57:15.294538Z",
     "iopub.status.idle": "2024-10-23T12:57:15.301045Z",
     "shell.execute_reply": "2024-10-23T12:57:15.300135Z"
    },
    "papermill": {
     "duration": 0.018706,
     "end_time": "2024-10-23T12:57:15.303063",
     "exception": false,
     "start_time": "2024-10-23T12:57:15.284357",
     "status": "completed"
    },
    "tags": []
   },
   "outputs": [
    {
     "data": {
      "text/plain": [
       "Index(['Poster_Link', 'Series_Title', 'Released_Year', 'Certificate',\n",
       "       'Runtime', 'Genre', 'IMDB_Rating', 'Overview', 'Meta_score', 'Director',\n",
       "       'Star1', 'Star2', 'Star3', 'Star4', 'No_of_Votes', 'Gross'],\n",
       "      dtype='object')"
      ]
     },
     "execution_count": 8,
     "metadata": {},
     "output_type": "execute_result"
    }
   ],
   "source": [
    "df.columns"
   ]
  },
  {
   "cell_type": "code",
   "execution_count": null,
   "id": "d87e0280",
   "metadata": {
    "papermill": {
     "duration": 0.008899,
     "end_time": "2024-10-23T12:57:15.321037",
     "exception": false,
     "start_time": "2024-10-23T12:57:15.312138",
     "status": "completed"
    },
    "tags": []
   },
   "outputs": [],
   "source": []
  },
  {
   "cell_type": "markdown",
   "id": "29e09e72",
   "metadata": {
    "papermill": {
     "duration": 0.008825,
     "end_time": "2024-10-23T12:57:15.338914",
     "exception": false,
     "start_time": "2024-10-23T12:57:15.330089",
     "status": "completed"
    },
    "tags": []
   },
   "source": [
    "# Cleaning Data!"
   ]
  },
  {
   "cell_type": "code",
   "execution_count": 9,
   "id": "60b687c4",
   "metadata": {
    "execution": {
     "iopub.execute_input": "2024-10-23T12:57:15.358796Z",
     "iopub.status.busy": "2024-10-23T12:57:15.358028Z",
     "iopub.status.idle": "2024-10-23T12:57:15.375375Z",
     "shell.execute_reply": "2024-10-23T12:57:15.374475Z"
    },
    "papermill": {
     "duration": 0.029571,
     "end_time": "2024-10-23T12:57:15.377484",
     "exception": false,
     "start_time": "2024-10-23T12:57:15.347913",
     "status": "completed"
    },
    "tags": []
   },
   "outputs": [
    {
     "data": {
      "text/html": [
       "<div>\n",
       "<style scoped>\n",
       "    .dataframe tbody tr th:only-of-type {\n",
       "        vertical-align: middle;\n",
       "    }\n",
       "\n",
       "    .dataframe tbody tr th {\n",
       "        vertical-align: top;\n",
       "    }\n",
       "\n",
       "    .dataframe thead th {\n",
       "        text-align: right;\n",
       "    }\n",
       "</style>\n",
       "<table border=\"1\" class=\"dataframe\">\n",
       "  <thead>\n",
       "    <tr style=\"text-align: right;\">\n",
       "      <th></th>\n",
       "      <th>Poster_Link</th>\n",
       "      <th>Series_Title</th>\n",
       "      <th>Released_Year</th>\n",
       "      <th>Certificate</th>\n",
       "      <th>Runtime</th>\n",
       "      <th>Genre</th>\n",
       "      <th>IMDB_Rating</th>\n",
       "      <th>Overview</th>\n",
       "      <th>Meta_score</th>\n",
       "      <th>Director</th>\n",
       "      <th>Star1</th>\n",
       "      <th>Star2</th>\n",
       "      <th>Star3</th>\n",
       "      <th>Star4</th>\n",
       "      <th>No_of_Votes</th>\n",
       "      <th>Gross</th>\n",
       "    </tr>\n",
       "  </thead>\n",
       "  <tbody>\n",
       "    <tr>\n",
       "      <th>0</th>\n",
       "      <td>https://m.media-amazon.com/images/M/MV5BMDFkYT...</td>\n",
       "      <td>The Shawshank Redemption</td>\n",
       "      <td>1994</td>\n",
       "      <td>A</td>\n",
       "      <td>142 min</td>\n",
       "      <td>Drama</td>\n",
       "      <td>9.3</td>\n",
       "      <td>Two imprisoned men bond over a number of years...</td>\n",
       "      <td>80.0</td>\n",
       "      <td>Frank Darabont</td>\n",
       "      <td>Tim Robbins</td>\n",
       "      <td>Morgan Freeman</td>\n",
       "      <td>Bob Gunton</td>\n",
       "      <td>William Sadler</td>\n",
       "      <td>2343110</td>\n",
       "      <td>28,341,469</td>\n",
       "    </tr>\n",
       "    <tr>\n",
       "      <th>1</th>\n",
       "      <td>https://m.media-amazon.com/images/M/MV5BM2MyNj...</td>\n",
       "      <td>The Godfather</td>\n",
       "      <td>1972</td>\n",
       "      <td>A</td>\n",
       "      <td>175 min</td>\n",
       "      <td>Crime, Drama</td>\n",
       "      <td>9.2</td>\n",
       "      <td>An organized crime dynasty's aging patriarch t...</td>\n",
       "      <td>100.0</td>\n",
       "      <td>Francis Ford Coppola</td>\n",
       "      <td>Marlon Brando</td>\n",
       "      <td>Al Pacino</td>\n",
       "      <td>James Caan</td>\n",
       "      <td>Diane Keaton</td>\n",
       "      <td>1620367</td>\n",
       "      <td>134,966,411</td>\n",
       "    </tr>\n",
       "    <tr>\n",
       "      <th>2</th>\n",
       "      <td>https://m.media-amazon.com/images/M/MV5BMTMxNT...</td>\n",
       "      <td>The Dark Knight</td>\n",
       "      <td>2008</td>\n",
       "      <td>UA</td>\n",
       "      <td>152 min</td>\n",
       "      <td>Action, Crime, Drama</td>\n",
       "      <td>9.0</td>\n",
       "      <td>When the menace known as the Joker wreaks havo...</td>\n",
       "      <td>84.0</td>\n",
       "      <td>Christopher Nolan</td>\n",
       "      <td>Christian Bale</td>\n",
       "      <td>Heath Ledger</td>\n",
       "      <td>Aaron Eckhart</td>\n",
       "      <td>Michael Caine</td>\n",
       "      <td>2303232</td>\n",
       "      <td>534,858,444</td>\n",
       "    </tr>\n",
       "    <tr>\n",
       "      <th>3</th>\n",
       "      <td>https://m.media-amazon.com/images/M/MV5BMWMwMG...</td>\n",
       "      <td>The Godfather: Part II</td>\n",
       "      <td>1974</td>\n",
       "      <td>A</td>\n",
       "      <td>202 min</td>\n",
       "      <td>Crime, Drama</td>\n",
       "      <td>9.0</td>\n",
       "      <td>The early life and career of Vito Corleone in ...</td>\n",
       "      <td>90.0</td>\n",
       "      <td>Francis Ford Coppola</td>\n",
       "      <td>Al Pacino</td>\n",
       "      <td>Robert De Niro</td>\n",
       "      <td>Robert Duvall</td>\n",
       "      <td>Diane Keaton</td>\n",
       "      <td>1129952</td>\n",
       "      <td>57,300,000</td>\n",
       "    </tr>\n",
       "    <tr>\n",
       "      <th>4</th>\n",
       "      <td>https://m.media-amazon.com/images/M/MV5BMWU4N2...</td>\n",
       "      <td>12 Angry Men</td>\n",
       "      <td>1957</td>\n",
       "      <td>U</td>\n",
       "      <td>96 min</td>\n",
       "      <td>Crime, Drama</td>\n",
       "      <td>9.0</td>\n",
       "      <td>A jury holdout attempts to prevent a miscarria...</td>\n",
       "      <td>96.0</td>\n",
       "      <td>Sidney Lumet</td>\n",
       "      <td>Henry Fonda</td>\n",
       "      <td>Lee J. Cobb</td>\n",
       "      <td>Martin Balsam</td>\n",
       "      <td>John Fiedler</td>\n",
       "      <td>689845</td>\n",
       "      <td>4,360,000</td>\n",
       "    </tr>\n",
       "  </tbody>\n",
       "</table>\n",
       "</div>"
      ],
      "text/plain": [
       "                                         Poster_Link  \\\n",
       "0  https://m.media-amazon.com/images/M/MV5BMDFkYT...   \n",
       "1  https://m.media-amazon.com/images/M/MV5BM2MyNj...   \n",
       "2  https://m.media-amazon.com/images/M/MV5BMTMxNT...   \n",
       "3  https://m.media-amazon.com/images/M/MV5BMWMwMG...   \n",
       "4  https://m.media-amazon.com/images/M/MV5BMWU4N2...   \n",
       "\n",
       "               Series_Title Released_Year Certificate  Runtime  \\\n",
       "0  The Shawshank Redemption          1994           A  142 min   \n",
       "1             The Godfather          1972           A  175 min   \n",
       "2           The Dark Knight          2008          UA  152 min   \n",
       "3    The Godfather: Part II          1974           A  202 min   \n",
       "4              12 Angry Men          1957           U   96 min   \n",
       "\n",
       "                  Genre  IMDB_Rating  \\\n",
       "0                 Drama          9.3   \n",
       "1          Crime, Drama          9.2   \n",
       "2  Action, Crime, Drama          9.0   \n",
       "3          Crime, Drama          9.0   \n",
       "4          Crime, Drama          9.0   \n",
       "\n",
       "                                            Overview  Meta_score  \\\n",
       "0  Two imprisoned men bond over a number of years...        80.0   \n",
       "1  An organized crime dynasty's aging patriarch t...       100.0   \n",
       "2  When the menace known as the Joker wreaks havo...        84.0   \n",
       "3  The early life and career of Vito Corleone in ...        90.0   \n",
       "4  A jury holdout attempts to prevent a miscarria...        96.0   \n",
       "\n",
       "               Director           Star1           Star2          Star3  \\\n",
       "0        Frank Darabont     Tim Robbins  Morgan Freeman     Bob Gunton   \n",
       "1  Francis Ford Coppola   Marlon Brando       Al Pacino     James Caan   \n",
       "2     Christopher Nolan  Christian Bale    Heath Ledger  Aaron Eckhart   \n",
       "3  Francis Ford Coppola       Al Pacino  Robert De Niro  Robert Duvall   \n",
       "4          Sidney Lumet     Henry Fonda     Lee J. Cobb  Martin Balsam   \n",
       "\n",
       "            Star4  No_of_Votes        Gross  \n",
       "0  William Sadler      2343110   28,341,469  \n",
       "1    Diane Keaton      1620367  134,966,411  \n",
       "2   Michael Caine      2303232  534,858,444  \n",
       "3    Diane Keaton      1129952   57,300,000  \n",
       "4    John Fiedler       689845    4,360,000  "
      ]
     },
     "execution_count": 9,
     "metadata": {},
     "output_type": "execute_result"
    }
   ],
   "source": [
    "df.head()"
   ]
  },
  {
   "cell_type": "code",
   "execution_count": 10,
   "id": "8532534a",
   "metadata": {
    "execution": {
     "iopub.execute_input": "2024-10-23T12:57:15.398152Z",
     "iopub.status.busy": "2024-10-23T12:57:15.397530Z",
     "iopub.status.idle": "2024-10-23T12:57:15.406878Z",
     "shell.execute_reply": "2024-10-23T12:57:15.406071Z"
    },
    "papermill": {
     "duration": 0.021899,
     "end_time": "2024-10-23T12:57:15.408915",
     "exception": false,
     "start_time": "2024-10-23T12:57:15.387016",
     "status": "completed"
    },
    "tags": []
   },
   "outputs": [],
   "source": [
    "df = df.drop_duplicates()"
   ]
  },
  {
   "cell_type": "code",
   "execution_count": 11,
   "id": "b98aa222",
   "metadata": {
    "execution": {
     "iopub.execute_input": "2024-10-23T12:57:15.429465Z",
     "iopub.status.busy": "2024-10-23T12:57:15.428830Z",
     "iopub.status.idle": "2024-10-23T12:57:15.442387Z",
     "shell.execute_reply": "2024-10-23T12:57:15.441489Z"
    },
    "papermill": {
     "duration": 0.02598,
     "end_time": "2024-10-23T12:57:15.444356",
     "exception": false,
     "start_time": "2024-10-23T12:57:15.418376",
     "status": "completed"
    },
    "tags": []
   },
   "outputs": [
    {
     "data": {
      "text/plain": [
       "Poster_Link      0\n",
       "Series_Title     0\n",
       "Released_Year    0\n",
       "Certificate      0\n",
       "Runtime          0\n",
       "Genre            0\n",
       "IMDB_Rating      0\n",
       "Overview         0\n",
       "Meta_score       0\n",
       "Director         0\n",
       "Star1            0\n",
       "Star2            0\n",
       "Star3            0\n",
       "Star4            0\n",
       "No_of_Votes      0\n",
       "Gross            0\n",
       "dtype: int64"
      ]
     },
     "execution_count": 11,
     "metadata": {},
     "output_type": "execute_result"
    }
   ],
   "source": [
    "df = df.dropna(axis=0, how='any')\n",
    "\n",
    "df.isna().sum()"
   ]
  },
  {
   "cell_type": "code",
   "execution_count": 12,
   "id": "826d9296",
   "metadata": {
    "execution": {
     "iopub.execute_input": "2024-10-23T12:57:15.464751Z",
     "iopub.status.busy": "2024-10-23T12:57:15.464291Z",
     "iopub.status.idle": "2024-10-23T12:57:15.486728Z",
     "shell.execute_reply": "2024-10-23T12:57:15.485771Z"
    },
    "papermill": {
     "duration": 0.034937,
     "end_time": "2024-10-23T12:57:15.488764",
     "exception": false,
     "start_time": "2024-10-23T12:57:15.453827",
     "status": "completed"
    },
    "tags": []
   },
   "outputs": [
    {
     "data": {
      "text/html": [
       "<div>\n",
       "<style scoped>\n",
       "    .dataframe tbody tr th:only-of-type {\n",
       "        vertical-align: middle;\n",
       "    }\n",
       "\n",
       "    .dataframe tbody tr th {\n",
       "        vertical-align: top;\n",
       "    }\n",
       "\n",
       "    .dataframe thead th {\n",
       "        text-align: right;\n",
       "    }\n",
       "</style>\n",
       "<table border=\"1\" class=\"dataframe\">\n",
       "  <thead>\n",
       "    <tr style=\"text-align: right;\">\n",
       "      <th></th>\n",
       "      <th>Series_Title</th>\n",
       "      <th>Released_Year</th>\n",
       "      <th>Certificate</th>\n",
       "      <th>Runtime</th>\n",
       "      <th>Genre</th>\n",
       "      <th>IMDB_Rating</th>\n",
       "      <th>Overview</th>\n",
       "      <th>Meta_score</th>\n",
       "      <th>Director</th>\n",
       "      <th>Star1</th>\n",
       "      <th>Star2</th>\n",
       "      <th>Star3</th>\n",
       "      <th>Star4</th>\n",
       "      <th>No_of_Votes</th>\n",
       "      <th>Gross</th>\n",
       "    </tr>\n",
       "  </thead>\n",
       "  <tbody>\n",
       "    <tr>\n",
       "      <th>0</th>\n",
       "      <td>The Shawshank Redemption</td>\n",
       "      <td>1994</td>\n",
       "      <td>A</td>\n",
       "      <td>142 min</td>\n",
       "      <td>Drama</td>\n",
       "      <td>9.3</td>\n",
       "      <td>Two imprisoned men bond over a number of years...</td>\n",
       "      <td>80.0</td>\n",
       "      <td>Frank Darabont</td>\n",
       "      <td>Tim Robbins</td>\n",
       "      <td>Morgan Freeman</td>\n",
       "      <td>Bob Gunton</td>\n",
       "      <td>William Sadler</td>\n",
       "      <td>2343110</td>\n",
       "      <td>28,341,469</td>\n",
       "    </tr>\n",
       "    <tr>\n",
       "      <th>1</th>\n",
       "      <td>The Godfather</td>\n",
       "      <td>1972</td>\n",
       "      <td>A</td>\n",
       "      <td>175 min</td>\n",
       "      <td>Crime, Drama</td>\n",
       "      <td>9.2</td>\n",
       "      <td>An organized crime dynasty's aging patriarch t...</td>\n",
       "      <td>100.0</td>\n",
       "      <td>Francis Ford Coppola</td>\n",
       "      <td>Marlon Brando</td>\n",
       "      <td>Al Pacino</td>\n",
       "      <td>James Caan</td>\n",
       "      <td>Diane Keaton</td>\n",
       "      <td>1620367</td>\n",
       "      <td>134,966,411</td>\n",
       "    </tr>\n",
       "    <tr>\n",
       "      <th>2</th>\n",
       "      <td>The Dark Knight</td>\n",
       "      <td>2008</td>\n",
       "      <td>UA</td>\n",
       "      <td>152 min</td>\n",
       "      <td>Action, Crime, Drama</td>\n",
       "      <td>9.0</td>\n",
       "      <td>When the menace known as the Joker wreaks havo...</td>\n",
       "      <td>84.0</td>\n",
       "      <td>Christopher Nolan</td>\n",
       "      <td>Christian Bale</td>\n",
       "      <td>Heath Ledger</td>\n",
       "      <td>Aaron Eckhart</td>\n",
       "      <td>Michael Caine</td>\n",
       "      <td>2303232</td>\n",
       "      <td>534,858,444</td>\n",
       "    </tr>\n",
       "    <tr>\n",
       "      <th>3</th>\n",
       "      <td>The Godfather: Part II</td>\n",
       "      <td>1974</td>\n",
       "      <td>A</td>\n",
       "      <td>202 min</td>\n",
       "      <td>Crime, Drama</td>\n",
       "      <td>9.0</td>\n",
       "      <td>The early life and career of Vito Corleone in ...</td>\n",
       "      <td>90.0</td>\n",
       "      <td>Francis Ford Coppola</td>\n",
       "      <td>Al Pacino</td>\n",
       "      <td>Robert De Niro</td>\n",
       "      <td>Robert Duvall</td>\n",
       "      <td>Diane Keaton</td>\n",
       "      <td>1129952</td>\n",
       "      <td>57,300,000</td>\n",
       "    </tr>\n",
       "    <tr>\n",
       "      <th>4</th>\n",
       "      <td>12 Angry Men</td>\n",
       "      <td>1957</td>\n",
       "      <td>U</td>\n",
       "      <td>96 min</td>\n",
       "      <td>Crime, Drama</td>\n",
       "      <td>9.0</td>\n",
       "      <td>A jury holdout attempts to prevent a miscarria...</td>\n",
       "      <td>96.0</td>\n",
       "      <td>Sidney Lumet</td>\n",
       "      <td>Henry Fonda</td>\n",
       "      <td>Lee J. Cobb</td>\n",
       "      <td>Martin Balsam</td>\n",
       "      <td>John Fiedler</td>\n",
       "      <td>689845</td>\n",
       "      <td>4,360,000</td>\n",
       "    </tr>\n",
       "    <tr>\n",
       "      <th>...</th>\n",
       "      <td>...</td>\n",
       "      <td>...</td>\n",
       "      <td>...</td>\n",
       "      <td>...</td>\n",
       "      <td>...</td>\n",
       "      <td>...</td>\n",
       "      <td>...</td>\n",
       "      <td>...</td>\n",
       "      <td>...</td>\n",
       "      <td>...</td>\n",
       "      <td>...</td>\n",
       "      <td>...</td>\n",
       "      <td>...</td>\n",
       "      <td>...</td>\n",
       "      <td>...</td>\n",
       "    </tr>\n",
       "    <tr>\n",
       "      <th>990</th>\n",
       "      <td>Giù la testa</td>\n",
       "      <td>1971</td>\n",
       "      <td>PG</td>\n",
       "      <td>157 min</td>\n",
       "      <td>Drama, War, Western</td>\n",
       "      <td>7.6</td>\n",
       "      <td>A low-life bandit and an I.R.A. explosives exp...</td>\n",
       "      <td>77.0</td>\n",
       "      <td>Sergio Leone</td>\n",
       "      <td>Rod Steiger</td>\n",
       "      <td>James Coburn</td>\n",
       "      <td>Romolo Valli</td>\n",
       "      <td>Maria Monti</td>\n",
       "      <td>30144</td>\n",
       "      <td>696,690</td>\n",
       "    </tr>\n",
       "    <tr>\n",
       "      <th>991</th>\n",
       "      <td>Kelly's Heroes</td>\n",
       "      <td>1970</td>\n",
       "      <td>GP</td>\n",
       "      <td>144 min</td>\n",
       "      <td>Adventure, Comedy, War</td>\n",
       "      <td>7.6</td>\n",
       "      <td>A group of U.S. soldiers sneaks across enemy l...</td>\n",
       "      <td>50.0</td>\n",
       "      <td>Brian G. Hutton</td>\n",
       "      <td>Clint Eastwood</td>\n",
       "      <td>Telly Savalas</td>\n",
       "      <td>Don Rickles</td>\n",
       "      <td>Carroll O'Connor</td>\n",
       "      <td>45338</td>\n",
       "      <td>1,378,435</td>\n",
       "    </tr>\n",
       "    <tr>\n",
       "      <th>992</th>\n",
       "      <td>The Jungle Book</td>\n",
       "      <td>1967</td>\n",
       "      <td>U</td>\n",
       "      <td>78 min</td>\n",
       "      <td>Animation, Adventure, Family</td>\n",
       "      <td>7.6</td>\n",
       "      <td>Bagheera the Panther and Baloo the Bear have a...</td>\n",
       "      <td>65.0</td>\n",
       "      <td>Wolfgang Reitherman</td>\n",
       "      <td>Phil Harris</td>\n",
       "      <td>Sebastian Cabot</td>\n",
       "      <td>Louis Prima</td>\n",
       "      <td>Bruce Reitherman</td>\n",
       "      <td>166409</td>\n",
       "      <td>141,843,612</td>\n",
       "    </tr>\n",
       "    <tr>\n",
       "      <th>994</th>\n",
       "      <td>A Hard Day's Night</td>\n",
       "      <td>1964</td>\n",
       "      <td>U</td>\n",
       "      <td>87 min</td>\n",
       "      <td>Comedy, Music, Musical</td>\n",
       "      <td>7.6</td>\n",
       "      <td>Over two \"typical\" days in the life of The Bea...</td>\n",
       "      <td>96.0</td>\n",
       "      <td>Richard Lester</td>\n",
       "      <td>John Lennon</td>\n",
       "      <td>Paul McCartney</td>\n",
       "      <td>George Harrison</td>\n",
       "      <td>Ringo Starr</td>\n",
       "      <td>40351</td>\n",
       "      <td>13,780,024</td>\n",
       "    </tr>\n",
       "    <tr>\n",
       "      <th>997</th>\n",
       "      <td>From Here to Eternity</td>\n",
       "      <td>1953</td>\n",
       "      <td>Passed</td>\n",
       "      <td>118 min</td>\n",
       "      <td>Drama, Romance, War</td>\n",
       "      <td>7.6</td>\n",
       "      <td>In Hawaii in 1941, a private is cruelly punish...</td>\n",
       "      <td>85.0</td>\n",
       "      <td>Fred Zinnemann</td>\n",
       "      <td>Burt Lancaster</td>\n",
       "      <td>Montgomery Clift</td>\n",
       "      <td>Deborah Kerr</td>\n",
       "      <td>Donna Reed</td>\n",
       "      <td>43374</td>\n",
       "      <td>30,500,000</td>\n",
       "    </tr>\n",
       "  </tbody>\n",
       "</table>\n",
       "<p>714 rows × 15 columns</p>\n",
       "</div>"
      ],
      "text/plain": [
       "                 Series_Title Released_Year Certificate  Runtime  \\\n",
       "0    The Shawshank Redemption          1994           A  142 min   \n",
       "1               The Godfather          1972           A  175 min   \n",
       "2             The Dark Knight          2008          UA  152 min   \n",
       "3      The Godfather: Part II          1974           A  202 min   \n",
       "4                12 Angry Men          1957           U   96 min   \n",
       "..                        ...           ...         ...      ...   \n",
       "990              Giù la testa          1971          PG  157 min   \n",
       "991            Kelly's Heroes          1970          GP  144 min   \n",
       "992           The Jungle Book          1967           U   78 min   \n",
       "994        A Hard Day's Night          1964           U   87 min   \n",
       "997     From Here to Eternity          1953      Passed  118 min   \n",
       "\n",
       "                            Genre  IMDB_Rating  \\\n",
       "0                           Drama          9.3   \n",
       "1                    Crime, Drama          9.2   \n",
       "2            Action, Crime, Drama          9.0   \n",
       "3                    Crime, Drama          9.0   \n",
       "4                    Crime, Drama          9.0   \n",
       "..                            ...          ...   \n",
       "990           Drama, War, Western          7.6   \n",
       "991        Adventure, Comedy, War          7.6   \n",
       "992  Animation, Adventure, Family          7.6   \n",
       "994        Comedy, Music, Musical          7.6   \n",
       "997           Drama, Romance, War          7.6   \n",
       "\n",
       "                                              Overview  Meta_score  \\\n",
       "0    Two imprisoned men bond over a number of years...        80.0   \n",
       "1    An organized crime dynasty's aging patriarch t...       100.0   \n",
       "2    When the menace known as the Joker wreaks havo...        84.0   \n",
       "3    The early life and career of Vito Corleone in ...        90.0   \n",
       "4    A jury holdout attempts to prevent a miscarria...        96.0   \n",
       "..                                                 ...         ...   \n",
       "990  A low-life bandit and an I.R.A. explosives exp...        77.0   \n",
       "991  A group of U.S. soldiers sneaks across enemy l...        50.0   \n",
       "992  Bagheera the Panther and Baloo the Bear have a...        65.0   \n",
       "994  Over two \"typical\" days in the life of The Bea...        96.0   \n",
       "997  In Hawaii in 1941, a private is cruelly punish...        85.0   \n",
       "\n",
       "                 Director           Star1             Star2            Star3  \\\n",
       "0          Frank Darabont     Tim Robbins    Morgan Freeman       Bob Gunton   \n",
       "1    Francis Ford Coppola   Marlon Brando         Al Pacino       James Caan   \n",
       "2       Christopher Nolan  Christian Bale      Heath Ledger    Aaron Eckhart   \n",
       "3    Francis Ford Coppola       Al Pacino    Robert De Niro    Robert Duvall   \n",
       "4            Sidney Lumet     Henry Fonda       Lee J. Cobb    Martin Balsam   \n",
       "..                    ...             ...               ...              ...   \n",
       "990          Sergio Leone     Rod Steiger      James Coburn     Romolo Valli   \n",
       "991       Brian G. Hutton  Clint Eastwood     Telly Savalas      Don Rickles   \n",
       "992   Wolfgang Reitherman     Phil Harris   Sebastian Cabot      Louis Prima   \n",
       "994        Richard Lester     John Lennon    Paul McCartney  George Harrison   \n",
       "997        Fred Zinnemann  Burt Lancaster  Montgomery Clift     Deborah Kerr   \n",
       "\n",
       "                Star4  No_of_Votes        Gross  \n",
       "0      William Sadler      2343110   28,341,469  \n",
       "1        Diane Keaton      1620367  134,966,411  \n",
       "2       Michael Caine      2303232  534,858,444  \n",
       "3        Diane Keaton      1129952   57,300,000  \n",
       "4        John Fiedler       689845    4,360,000  \n",
       "..                ...          ...          ...  \n",
       "990       Maria Monti        30144      696,690  \n",
       "991  Carroll O'Connor        45338    1,378,435  \n",
       "992  Bruce Reitherman       166409  141,843,612  \n",
       "994       Ringo Starr        40351   13,780,024  \n",
       "997        Donna Reed        43374   30,500,000  \n",
       "\n",
       "[714 rows x 15 columns]"
      ]
     },
     "execution_count": 12,
     "metadata": {},
     "output_type": "execute_result"
    }
   ],
   "source": [
    "df = df.drop('Poster_Link', axis=1)\n",
    "df"
   ]
  },
  {
   "cell_type": "code",
   "execution_count": 13,
   "id": "0261e08b",
   "metadata": {
    "execution": {
     "iopub.execute_input": "2024-10-23T12:57:15.511001Z",
     "iopub.status.busy": "2024-10-23T12:57:15.510187Z",
     "iopub.status.idle": "2024-10-23T12:57:15.519549Z",
     "shell.execute_reply": "2024-10-23T12:57:15.518576Z"
    },
    "papermill": {
     "duration": 0.022612,
     "end_time": "2024-10-23T12:57:15.521556",
     "exception": false,
     "start_time": "2024-10-23T12:57:15.498944",
     "status": "completed"
    },
    "tags": []
   },
   "outputs": [
    {
     "data": {
      "text/plain": [
       "0      142\n",
       "1      175\n",
       "2      152\n",
       "3      202\n",
       "4       96\n",
       "      ... \n",
       "990    157\n",
       "991    144\n",
       "992     78\n",
       "994     87\n",
       "997    118\n",
       "Name: Runtime, Length: 714, dtype: int64"
      ]
     },
     "execution_count": 13,
     "metadata": {},
     "output_type": "execute_result"
    }
   ],
   "source": [
    "df['Runtime'] = df['Runtime'].str.replace(' min', '').astype(int)\n",
    "df['Runtime']"
   ]
  },
  {
   "cell_type": "code",
   "execution_count": 14,
   "id": "26e26aa9",
   "metadata": {
    "execution": {
     "iopub.execute_input": "2024-10-23T12:57:15.543677Z",
     "iopub.status.busy": "2024-10-23T12:57:15.543275Z",
     "iopub.status.idle": "2024-10-23T12:57:15.549550Z",
     "shell.execute_reply": "2024-10-23T12:57:15.548588Z"
    },
    "papermill": {
     "duration": 0.019905,
     "end_time": "2024-10-23T12:57:15.551650",
     "exception": false,
     "start_time": "2024-10-23T12:57:15.531745",
     "status": "completed"
    },
    "tags": []
   },
   "outputs": [],
   "source": [
    "df['Gross'] = df[\"Gross\"].str.replace(',','')\n",
    "df['Gross'] = df['Gross'].astype(int)"
   ]
  },
  {
   "cell_type": "code",
   "execution_count": 15,
   "id": "0006d9aa",
   "metadata": {
    "execution": {
     "iopub.execute_input": "2024-10-23T12:57:15.573383Z",
     "iopub.status.busy": "2024-10-23T12:57:15.573015Z",
     "iopub.status.idle": "2024-10-23T12:57:15.579298Z",
     "shell.execute_reply": "2024-10-23T12:57:15.578640Z"
    },
    "papermill": {
     "duration": 0.019409,
     "end_time": "2024-10-23T12:57:15.581341",
     "exception": false,
     "start_time": "2024-10-23T12:57:15.561932",
     "status": "completed"
    },
    "tags": []
   },
   "outputs": [],
   "source": [
    "df = df.drop(df[df['Released_Year'] == 'PG'].index)"
   ]
  },
  {
   "cell_type": "code",
   "execution_count": 16,
   "id": "31f33f97",
   "metadata": {
    "execution": {
     "iopub.execute_input": "2024-10-23T12:57:15.602827Z",
     "iopub.status.busy": "2024-10-23T12:57:15.602427Z",
     "iopub.status.idle": "2024-10-23T12:57:15.613005Z",
     "shell.execute_reply": "2024-10-23T12:57:15.612188Z"
    },
    "papermill": {
     "duration": 0.023575,
     "end_time": "2024-10-23T12:57:15.615025",
     "exception": false,
     "start_time": "2024-10-23T12:57:15.591450",
     "status": "completed"
    },
    "tags": []
   },
   "outputs": [],
   "source": [
    "df = df[~df['Released_Year'].str.contains('[a-zA-Z]', na=False)]\n",
    "df['Released_Year'] = pd.to_numeric(df['Released_Year'], errors='coerce')  # Convert to numeric\n",
    "df = df.dropna(subset=['Released_Year'])  # Drop rows with NaN values in 'Released_Year'\n",
    "df['Released_Year'] = df['Released_Year'].astype(int)"
   ]
  },
  {
   "cell_type": "code",
   "execution_count": 17,
   "id": "5b784713",
   "metadata": {
    "execution": {
     "iopub.execute_input": "2024-10-23T12:57:15.637318Z",
     "iopub.status.busy": "2024-10-23T12:57:15.636453Z",
     "iopub.status.idle": "2024-10-23T12:57:15.652909Z",
     "shell.execute_reply": "2024-10-23T12:57:15.651887Z"
    },
    "papermill": {
     "duration": 0.029816,
     "end_time": "2024-10-23T12:57:15.655034",
     "exception": false,
     "start_time": "2024-10-23T12:57:15.625218",
     "status": "completed"
    },
    "tags": []
   },
   "outputs": [
    {
     "data": {
      "text/html": [
       "<div>\n",
       "<style scoped>\n",
       "    .dataframe tbody tr th:only-of-type {\n",
       "        vertical-align: middle;\n",
       "    }\n",
       "\n",
       "    .dataframe tbody tr th {\n",
       "        vertical-align: top;\n",
       "    }\n",
       "\n",
       "    .dataframe thead th {\n",
       "        text-align: right;\n",
       "    }\n",
       "</style>\n",
       "<table border=\"1\" class=\"dataframe\">\n",
       "  <thead>\n",
       "    <tr style=\"text-align: right;\">\n",
       "      <th></th>\n",
       "      <th>Series_Title</th>\n",
       "      <th>Released_Year</th>\n",
       "      <th>Certificate</th>\n",
       "      <th>Runtime</th>\n",
       "      <th>Genre</th>\n",
       "      <th>IMDB_Rating</th>\n",
       "      <th>Overview</th>\n",
       "      <th>Meta_score</th>\n",
       "      <th>Director</th>\n",
       "      <th>Star1</th>\n",
       "      <th>Star2</th>\n",
       "      <th>Star3</th>\n",
       "      <th>Star4</th>\n",
       "      <th>No_of_Votes</th>\n",
       "      <th>Gross</th>\n",
       "    </tr>\n",
       "  </thead>\n",
       "  <tbody>\n",
       "    <tr>\n",
       "      <th>0</th>\n",
       "      <td>The Shawshank Redemption</td>\n",
       "      <td>1994</td>\n",
       "      <td>A</td>\n",
       "      <td>142</td>\n",
       "      <td>Drama</td>\n",
       "      <td>9.3</td>\n",
       "      <td>Two imprisoned men bond over a number of years...</td>\n",
       "      <td>80.0</td>\n",
       "      <td>Frank Darabont</td>\n",
       "      <td>Tim Robbins</td>\n",
       "      <td>Morgan Freeman</td>\n",
       "      <td>Bob Gunton</td>\n",
       "      <td>William Sadler</td>\n",
       "      <td>2343110</td>\n",
       "      <td>28341469</td>\n",
       "    </tr>\n",
       "    <tr>\n",
       "      <th>1</th>\n",
       "      <td>The Godfather</td>\n",
       "      <td>1972</td>\n",
       "      <td>A</td>\n",
       "      <td>175</td>\n",
       "      <td>Crime, Drama</td>\n",
       "      <td>9.2</td>\n",
       "      <td>An organized crime dynasty's aging patriarch t...</td>\n",
       "      <td>100.0</td>\n",
       "      <td>Francis Ford Coppola</td>\n",
       "      <td>Marlon Brando</td>\n",
       "      <td>Al Pacino</td>\n",
       "      <td>James Caan</td>\n",
       "      <td>Diane Keaton</td>\n",
       "      <td>1620367</td>\n",
       "      <td>134966411</td>\n",
       "    </tr>\n",
       "    <tr>\n",
       "      <th>2</th>\n",
       "      <td>The Dark Knight</td>\n",
       "      <td>2008</td>\n",
       "      <td>UA</td>\n",
       "      <td>152</td>\n",
       "      <td>Action, Crime, Drama</td>\n",
       "      <td>9.0</td>\n",
       "      <td>When the menace known as the Joker wreaks havo...</td>\n",
       "      <td>84.0</td>\n",
       "      <td>Christopher Nolan</td>\n",
       "      <td>Christian Bale</td>\n",
       "      <td>Heath Ledger</td>\n",
       "      <td>Aaron Eckhart</td>\n",
       "      <td>Michael Caine</td>\n",
       "      <td>2303232</td>\n",
       "      <td>534858444</td>\n",
       "    </tr>\n",
       "    <tr>\n",
       "      <th>3</th>\n",
       "      <td>The Godfather: Part II</td>\n",
       "      <td>1974</td>\n",
       "      <td>A</td>\n",
       "      <td>202</td>\n",
       "      <td>Crime, Drama</td>\n",
       "      <td>9.0</td>\n",
       "      <td>The early life and career of Vito Corleone in ...</td>\n",
       "      <td>90.0</td>\n",
       "      <td>Francis Ford Coppola</td>\n",
       "      <td>Al Pacino</td>\n",
       "      <td>Robert De Niro</td>\n",
       "      <td>Robert Duvall</td>\n",
       "      <td>Diane Keaton</td>\n",
       "      <td>1129952</td>\n",
       "      <td>57300000</td>\n",
       "    </tr>\n",
       "    <tr>\n",
       "      <th>4</th>\n",
       "      <td>12 Angry Men</td>\n",
       "      <td>1957</td>\n",
       "      <td>U</td>\n",
       "      <td>96</td>\n",
       "      <td>Crime, Drama</td>\n",
       "      <td>9.0</td>\n",
       "      <td>A jury holdout attempts to prevent a miscarria...</td>\n",
       "      <td>96.0</td>\n",
       "      <td>Sidney Lumet</td>\n",
       "      <td>Henry Fonda</td>\n",
       "      <td>Lee J. Cobb</td>\n",
       "      <td>Martin Balsam</td>\n",
       "      <td>John Fiedler</td>\n",
       "      <td>689845</td>\n",
       "      <td>4360000</td>\n",
       "    </tr>\n",
       "  </tbody>\n",
       "</table>\n",
       "</div>"
      ],
      "text/plain": [
       "               Series_Title  Released_Year Certificate  Runtime  \\\n",
       "0  The Shawshank Redemption           1994           A      142   \n",
       "1             The Godfather           1972           A      175   \n",
       "2           The Dark Knight           2008          UA      152   \n",
       "3    The Godfather: Part II           1974           A      202   \n",
       "4              12 Angry Men           1957           U       96   \n",
       "\n",
       "                  Genre  IMDB_Rating  \\\n",
       "0                 Drama          9.3   \n",
       "1          Crime, Drama          9.2   \n",
       "2  Action, Crime, Drama          9.0   \n",
       "3          Crime, Drama          9.0   \n",
       "4          Crime, Drama          9.0   \n",
       "\n",
       "                                            Overview  Meta_score  \\\n",
       "0  Two imprisoned men bond over a number of years...        80.0   \n",
       "1  An organized crime dynasty's aging patriarch t...       100.0   \n",
       "2  When the menace known as the Joker wreaks havo...        84.0   \n",
       "3  The early life and career of Vito Corleone in ...        90.0   \n",
       "4  A jury holdout attempts to prevent a miscarria...        96.0   \n",
       "\n",
       "               Director           Star1           Star2          Star3  \\\n",
       "0        Frank Darabont     Tim Robbins  Morgan Freeman     Bob Gunton   \n",
       "1  Francis Ford Coppola   Marlon Brando       Al Pacino     James Caan   \n",
       "2     Christopher Nolan  Christian Bale    Heath Ledger  Aaron Eckhart   \n",
       "3  Francis Ford Coppola       Al Pacino  Robert De Niro  Robert Duvall   \n",
       "4          Sidney Lumet     Henry Fonda     Lee J. Cobb  Martin Balsam   \n",
       "\n",
       "            Star4  No_of_Votes      Gross  \n",
       "0  William Sadler      2343110   28341469  \n",
       "1    Diane Keaton      1620367  134966411  \n",
       "2   Michael Caine      2303232  534858444  \n",
       "3    Diane Keaton      1129952   57300000  \n",
       "4    John Fiedler       689845    4360000  "
      ]
     },
     "execution_count": 17,
     "metadata": {},
     "output_type": "execute_result"
    }
   ],
   "source": [
    "df.head()"
   ]
  },
  {
   "cell_type": "markdown",
   "id": "c6f1a26e",
   "metadata": {
    "papermill": {
     "duration": 0.010161,
     "end_time": "2024-10-23T12:57:15.675811",
     "exception": false,
     "start_time": "2024-10-23T12:57:15.665650",
     "status": "completed"
    },
    "tags": []
   },
   "source": [
    "# Analysis"
   ]
  },
  {
   "cell_type": "markdown",
   "id": "bd3012aa",
   "metadata": {
    "papermill": {
     "duration": 0.010145,
     "end_time": "2024-10-23T12:57:15.696227",
     "exception": false,
     "start_time": "2024-10-23T12:57:15.686082",
     "status": "completed"
    },
    "tags": []
   },
   "source": [
    "# 1. The highest rated Directors with at least 5 movies.\n"
   ]
  },
  {
   "cell_type": "code",
   "execution_count": 18,
   "id": "db6d3650",
   "metadata": {
    "execution": {
     "iopub.execute_input": "2024-10-23T12:57:15.718709Z",
     "iopub.status.busy": "2024-10-23T12:57:15.718291Z",
     "iopub.status.idle": "2024-10-23T12:57:15.733614Z",
     "shell.execute_reply": "2024-10-23T12:57:15.732660Z"
    },
    "papermill": {
     "duration": 0.028874,
     "end_time": "2024-10-23T12:57:15.735585",
     "exception": false,
     "start_time": "2024-10-23T12:57:15.706711",
     "status": "completed"
    },
    "tags": []
   },
   "outputs": [
    {
     "data": {
      "text/html": [
       "<div>\n",
       "<style scoped>\n",
       "    .dataframe tbody tr th:only-of-type {\n",
       "        vertical-align: middle;\n",
       "    }\n",
       "\n",
       "    .dataframe tbody tr th {\n",
       "        vertical-align: top;\n",
       "    }\n",
       "\n",
       "    .dataframe thead th {\n",
       "        text-align: right;\n",
       "    }\n",
       "</style>\n",
       "<table border=\"1\" class=\"dataframe\">\n",
       "  <thead>\n",
       "    <tr style=\"text-align: right;\">\n",
       "      <th></th>\n",
       "      <th>count</th>\n",
       "      <th>mean</th>\n",
       "    </tr>\n",
       "    <tr>\n",
       "      <th>Director</th>\n",
       "      <th></th>\n",
       "      <th></th>\n",
       "    </tr>\n",
       "  </thead>\n",
       "  <tbody>\n",
       "    <tr>\n",
       "      <th>Christopher Nolan</th>\n",
       "      <td>8</td>\n",
       "      <td>8.462500</td>\n",
       "    </tr>\n",
       "    <tr>\n",
       "      <th>Peter Jackson</th>\n",
       "      <td>5</td>\n",
       "      <td>8.400000</td>\n",
       "    </tr>\n",
       "    <tr>\n",
       "      <th>Francis Ford Coppola</th>\n",
       "      <td>5</td>\n",
       "      <td>8.400000</td>\n",
       "    </tr>\n",
       "    <tr>\n",
       "      <th>Stanley Kubrick</th>\n",
       "      <td>6</td>\n",
       "      <td>8.266667</td>\n",
       "    </tr>\n",
       "    <tr>\n",
       "      <th>Sergio Leone</th>\n",
       "      <td>5</td>\n",
       "      <td>8.240000</td>\n",
       "    </tr>\n",
       "    <tr>\n",
       "      <th>Quentin Tarantino</th>\n",
       "      <td>8</td>\n",
       "      <td>8.175000</td>\n",
       "    </tr>\n",
       "    <tr>\n",
       "      <th>Martin Scorsese</th>\n",
       "      <td>10</td>\n",
       "      <td>8.170000</td>\n",
       "    </tr>\n",
       "    <tr>\n",
       "      <th>Alfred Hitchcock</th>\n",
       "      <td>9</td>\n",
       "      <td>8.144444</td>\n",
       "    </tr>\n",
       "    <tr>\n",
       "      <th>Hayao Miyazaki</th>\n",
       "      <td>7</td>\n",
       "      <td>8.142857</td>\n",
       "    </tr>\n",
       "    <tr>\n",
       "      <th>Robert Zemeckis</th>\n",
       "      <td>5</td>\n",
       "      <td>8.120000</td>\n",
       "    </tr>\n",
       "  </tbody>\n",
       "</table>\n",
       "</div>"
      ],
      "text/plain": [
       "                      count      mean\n",
       "Director                             \n",
       "Christopher Nolan         8  8.462500\n",
       "Peter Jackson             5  8.400000\n",
       "Francis Ford Coppola      5  8.400000\n",
       "Stanley Kubrick           6  8.266667\n",
       "Sergio Leone              5  8.240000\n",
       "Quentin Tarantino         8  8.175000\n",
       "Martin Scorsese          10  8.170000\n",
       "Alfred Hitchcock          9  8.144444\n",
       "Hayao Miyazaki            7  8.142857\n",
       "Robert Zemeckis           5  8.120000"
      ]
     },
     "execution_count": 18,
     "metadata": {},
     "output_type": "execute_result"
    }
   ],
   "source": [
    "highest_rated_director = df.groupby('Director')['IMDB_Rating'].agg(['count','mean']).loc[lambda x: x['count']>=5].sort_values('mean' ,ascending=False).head(10)\n",
    "\n",
    "highest_rated_director "
   ]
  },
  {
   "cell_type": "markdown",
   "id": "5f281277",
   "metadata": {
    "papermill": {
     "duration": 0.010307,
     "end_time": "2024-10-23T12:57:15.756603",
     "exception": false,
     "start_time": "2024-10-23T12:57:15.746296",
     "status": "completed"
    },
    "tags": []
   },
   "source": [
    "# 2. Sample data of Directors and the No. of Movies that they directed"
   ]
  },
  {
   "cell_type": "code",
   "execution_count": 19,
   "id": "1a6b2197",
   "metadata": {
    "execution": {
     "iopub.execute_input": "2024-10-23T12:57:15.780110Z",
     "iopub.status.busy": "2024-10-23T12:57:15.779396Z",
     "iopub.status.idle": "2024-10-23T12:57:16.065828Z",
     "shell.execute_reply": "2024-10-23T12:57:16.064835Z"
    },
    "papermill": {
     "duration": 0.300767,
     "end_time": "2024-10-23T12:57:16.067883",
     "exception": false,
     "start_time": "2024-10-23T12:57:15.767116",
     "status": "completed"
    },
    "tags": []
   },
   "outputs": [
    {
     "data": {
      "image/png": "[encoded data removed]",
      "text/plain": [
       "<Figure size 640x480 with 1 Axes>"
      ]
     },
     "metadata": {},
     "output_type": "display_data"
    }
   ],
   "source": [
    "seed = 123\n",
    "\n",
    "sample_data = df[df['Director'].isin(df['Director'].sample(10, random_state=seed))]\n",
    "\n",
    "sns.countplot(x='Director', data=sample_data)\n",
    "plt.xticks(rotation=90)\n",
    "plt.xlabel('Directors')\n",
    "plt.ylabel('No. of Movies')\n",
    "plt.show()"
   ]
  },
  {
   "cell_type": "markdown",
   "id": "06eac1a0",
   "metadata": {
    "papermill": {
     "duration": 0.010925,
     "end_time": "2024-10-23T12:57:16.090104",
     "exception": false,
     "start_time": "2024-10-23T12:57:16.079179",
     "status": "completed"
    },
    "tags": []
   },
   "source": [
    "# 3. Top 10 movies based on IMDB Rating"
   ]
  },
  {
   "cell_type": "code",
   "execution_count": 20,
   "id": "fe10184d",
   "metadata": {
    "execution": {
     "iopub.execute_input": "2024-10-23T12:57:16.114030Z",
     "iopub.status.busy": "2024-10-23T12:57:16.113646Z",
     "iopub.status.idle": "2024-10-23T12:57:16.128946Z",
     "shell.execute_reply": "2024-10-23T12:57:16.127930Z"
    },
    "papermill": {
     "duration": 0.029729,
     "end_time": "2024-10-23T12:57:16.131103",
     "exception": false,
     "start_time": "2024-10-23T12:57:16.101374",
     "status": "completed"
    },
    "tags": []
   },
   "outputs": [
    {
     "data": {
      "text/html": [
       "<div>\n",
       "<style scoped>\n",
       "    .dataframe tbody tr th:only-of-type {\n",
       "        vertical-align: middle;\n",
       "    }\n",
       "\n",
       "    .dataframe tbody tr th {\n",
       "        vertical-align: top;\n",
       "    }\n",
       "\n",
       "    .dataframe thead th {\n",
       "        text-align: right;\n",
       "    }\n",
       "</style>\n",
       "<table border=\"1\" class=\"dataframe\">\n",
       "  <thead>\n",
       "    <tr style=\"text-align: right;\">\n",
       "      <th></th>\n",
       "      <th>Series_Title</th>\n",
       "      <th>Director</th>\n",
       "      <th>IMDB_Rating</th>\n",
       "      <th>Meta_score</th>\n",
       "      <th>Gross</th>\n",
       "    </tr>\n",
       "  </thead>\n",
       "  <tbody>\n",
       "    <tr>\n",
       "      <th>0</th>\n",
       "      <td>The Shawshank Redemption</td>\n",
       "      <td>Frank Darabont</td>\n",
       "      <td>9.3</td>\n",
       "      <td>80.0</td>\n",
       "      <td>28341469</td>\n",
       "    </tr>\n",
       "    <tr>\n",
       "      <th>1</th>\n",
       "      <td>The Godfather</td>\n",
       "      <td>Francis Ford Coppola</td>\n",
       "      <td>9.2</td>\n",
       "      <td>100.0</td>\n",
       "      <td>134966411</td>\n",
       "    </tr>\n",
       "    <tr>\n",
       "      <th>2</th>\n",
       "      <td>The Dark Knight</td>\n",
       "      <td>Christopher Nolan</td>\n",
       "      <td>9.0</td>\n",
       "      <td>84.0</td>\n",
       "      <td>534858444</td>\n",
       "    </tr>\n",
       "    <tr>\n",
       "      <th>3</th>\n",
       "      <td>The Godfather: Part II</td>\n",
       "      <td>Francis Ford Coppola</td>\n",
       "      <td>9.0</td>\n",
       "      <td>90.0</td>\n",
       "      <td>57300000</td>\n",
       "    </tr>\n",
       "    <tr>\n",
       "      <th>4</th>\n",
       "      <td>12 Angry Men</td>\n",
       "      <td>Sidney Lumet</td>\n",
       "      <td>9.0</td>\n",
       "      <td>96.0</td>\n",
       "      <td>4360000</td>\n",
       "    </tr>\n",
       "    <tr>\n",
       "      <th>5</th>\n",
       "      <td>The Lord of the Rings: The Return of the King</td>\n",
       "      <td>Peter Jackson</td>\n",
       "      <td>8.9</td>\n",
       "      <td>94.0</td>\n",
       "      <td>377845905</td>\n",
       "    </tr>\n",
       "    <tr>\n",
       "      <th>6</th>\n",
       "      <td>Pulp Fiction</td>\n",
       "      <td>Quentin Tarantino</td>\n",
       "      <td>8.9</td>\n",
       "      <td>94.0</td>\n",
       "      <td>107928762</td>\n",
       "    </tr>\n",
       "    <tr>\n",
       "      <th>7</th>\n",
       "      <td>Schindler's List</td>\n",
       "      <td>Steven Spielberg</td>\n",
       "      <td>8.9</td>\n",
       "      <td>94.0</td>\n",
       "      <td>96898818</td>\n",
       "    </tr>\n",
       "    <tr>\n",
       "      <th>10</th>\n",
       "      <td>The Lord of the Rings: The Fellowship of the Ring</td>\n",
       "      <td>Peter Jackson</td>\n",
       "      <td>8.8</td>\n",
       "      <td>92.0</td>\n",
       "      <td>315544750</td>\n",
       "    </tr>\n",
       "    <tr>\n",
       "      <th>12</th>\n",
       "      <td>Il buono, il brutto, il cattivo</td>\n",
       "      <td>Sergio Leone</td>\n",
       "      <td>8.8</td>\n",
       "      <td>90.0</td>\n",
       "      <td>6100000</td>\n",
       "    </tr>\n",
       "  </tbody>\n",
       "</table>\n",
       "</div>"
      ],
      "text/plain": [
       "                                         Series_Title              Director  \\\n",
       "0                            The Shawshank Redemption        Frank Darabont   \n",
       "1                                       The Godfather  Francis Ford Coppola   \n",
       "2                                     The Dark Knight     Christopher Nolan   \n",
       "3                              The Godfather: Part II  Francis Ford Coppola   \n",
       "4                                        12 Angry Men          Sidney Lumet   \n",
       "5       The Lord of the Rings: The Return of the King         Peter Jackson   \n",
       "6                                        Pulp Fiction     Quentin Tarantino   \n",
       "7                                    Schindler's List      Steven Spielberg   \n",
       "10  The Lord of the Rings: The Fellowship of the Ring         Peter Jackson   \n",
       "12                    Il buono, il brutto, il cattivo          Sergio Leone   \n",
       "\n",
       "    IMDB_Rating  Meta_score      Gross  \n",
       "0           9.3        80.0   28341469  \n",
       "1           9.2       100.0  134966411  \n",
       "2           9.0        84.0  534858444  \n",
       "3           9.0        90.0   57300000  \n",
       "4           9.0        96.0    4360000  \n",
       "5           8.9        94.0  377845905  \n",
       "6           8.9        94.0  107928762  \n",
       "7           8.9        94.0   96898818  \n",
       "10          8.8        92.0  315544750  \n",
       "12          8.8        90.0    6100000  "
      ]
     },
     "execution_count": 20,
     "metadata": {},
     "output_type": "execute_result"
    }
   ],
   "source": [
    "top_10_movies = df.sort_values('IMDB_Rating', ascending=False)[['Series_Title','Director', 'IMDB_Rating', 'Meta_score', 'Gross']]\n",
    "\n",
    "top_10_movies.head(10)"
   ]
  },
  {
   "cell_type": "markdown",
   "id": "4c53efe1",
   "metadata": {
    "papermill": {
     "duration": 0.011282,
     "end_time": "2024-10-23T12:57:16.154083",
     "exception": false,
     "start_time": "2024-10-23T12:57:16.142801",
     "status": "completed"
    },
    "tags": []
   },
   "source": [
    "# 4. The correlation between Runtime and IMDB Rating"
   ]
  },
  {
   "cell_type": "code",
   "execution_count": 21,
   "id": "61133b41",
   "metadata": {
    "execution": {
     "iopub.execute_input": "2024-10-23T12:57:16.179225Z",
     "iopub.status.busy": "2024-10-23T12:57:16.178842Z",
     "iopub.status.idle": "2024-10-23T12:57:16.952615Z",
     "shell.execute_reply": "2024-10-23T12:57:16.951597Z"
    },
    "papermill": {
     "duration": 0.790606,
     "end_time": "2024-10-23T12:57:16.956318",
     "exception": false,
     "start_time": "2024-10-23T12:57:16.165712",
     "status": "completed"
    },
    "tags": []
   },
   "outputs": [
    {
     "data": {
      "image/png": "[encoded data removed]",
      "text/plain": [
       "<Figure size 1500x500 with 3 Axes>"
      ]
     },
     "metadata": {},
     "output_type": "display_data"
    },
    {
     "name": "stdout",
     "output_type": "stream",
     "text": [
      "The correlation between Runtime and IMDB Rating is: 0.25955235957091877\n"
     ]
    }
   ],
   "source": [
    "fig, axes = plt.subplots(1, 2, figsize=(15, 5))\n",
    "\n",
    "heatmap_corr = df[['Runtime', 'IMDB_Rating']]\n",
    "\n",
    "sns.heatmap(heatmap_corr.corr(), annot=True, cmap='crest', ax=axes[0])\n",
    "\n",
    "sns.scatterplot(x='IMDB_Rating', y='Runtime', hue=\"Certificate\", data=df, ax=axes[1])\n",
    "axes[1].legend(loc='center left', bbox_to_anchor=(1, 0.5))\n",
    "\n",
    "plt.show()\n",
    "\n",
    "print(f'The correlation between Runtime and IMDB Rating is: {heatmap_corr.corr().iloc[0,1]}')\n"
   ]
  },
  {
   "cell_type": "markdown",
   "id": "3801ad31",
   "metadata": {
    "papermill": {
     "duration": 0.013042,
     "end_time": "2024-10-23T12:57:16.983291",
     "exception": false,
     "start_time": "2024-10-23T12:57:16.970249",
     "status": "completed"
    },
    "tags": []
   },
   "source": [
    "# 5. Summary of Certificates"
   ]
  },
  {
   "cell_type": "code",
   "execution_count": 22,
   "id": "5a93c064",
   "metadata": {
    "execution": {
     "iopub.execute_input": "2024-10-23T12:57:17.012010Z",
     "iopub.status.busy": "2024-10-23T12:57:17.011286Z",
     "iopub.status.idle": "2024-10-23T12:57:17.303339Z",
     "shell.execute_reply": "2024-10-23T12:57:17.302348Z"
    },
    "papermill": {
     "duration": 0.308979,
     "end_time": "2024-10-23T12:57:17.305544",
     "exception": false,
     "start_time": "2024-10-23T12:57:16.996565",
     "status": "completed"
    },
    "tags": []
   },
   "outputs": [
    {
     "data": {
      "image/png": "[encoded data removed]",
      "text/plain": [
       "<Figure size 640x480 with 1 Axes>"
      ]
     },
     "metadata": {},
     "output_type": "display_data"
    }
   ],
   "source": [
    "sns.boxplot(x='Certificate', y='IMDB_Rating', data=df)\n",
    "plt.xticks(rotation=45)\n",
    "plt.show()"
   ]
  },
  {
   "cell_type": "markdown",
   "id": "b63b00ad",
   "metadata": {
    "papermill": {
     "duration": 0.01379,
     "end_time": "2024-10-23T12:57:17.333485",
     "exception": false,
     "start_time": "2024-10-23T12:57:17.319695",
     "status": "completed"
    },
    "tags": []
   },
   "source": [
    "# 6. The correlation between No_of_Votes and IMDB Rating"
   ]
  },
  {
   "cell_type": "code",
   "execution_count": 23,
   "id": "e12eb996",
   "metadata": {
    "execution": {
     "iopub.execute_input": "2024-10-23T12:57:17.363428Z",
     "iopub.status.busy": "2024-10-23T12:57:17.362549Z",
     "iopub.status.idle": "2024-10-23T12:57:17.573779Z",
     "shell.execute_reply": "2024-10-23T12:57:17.572783Z"
    },
    "papermill": {
     "duration": 0.229304,
     "end_time": "2024-10-23T12:57:17.576741",
     "exception": false,
     "start_time": "2024-10-23T12:57:17.347437",
     "status": "completed"
    },
    "tags": []
   },
   "outputs": [
    {
     "data": {
      "image/png": "[encoded data removed]",
      "text/plain": [
       "<Figure size 640x480 with 2 Axes>"
      ]
     },
     "metadata": {},
     "output_type": "display_data"
    },
    {
     "name": "stdout",
     "output_type": "stream",
     "text": [
      "The correlation between No_of_Votes and IMDB Rating is: 0.6233507013733826\n"
     ]
    }
   ],
   "source": [
    "lheatmap_corr = df[['IMDB_Rating', 'No_of_Votes']]\n",
    "\n",
    "f1 = sns.heatmap(lheatmap_corr.corr(), annot=True, cmap='crest')\n",
    "plt.show()\n",
    "\n",
    "print(f'The correlation between No_of_Votes and IMDB Rating is: {lheatmap_corr.corr().iloc[0,1]}')\n"
   ]
  },
  {
   "cell_type": "markdown",
   "id": "a633bd32",
   "metadata": {
    "papermill": {
     "duration": 0.014344,
     "end_time": "2024-10-23T12:57:17.605838",
     "exception": false,
     "start_time": "2024-10-23T12:57:17.591494",
     "status": "completed"
    },
    "tags": []
   },
   "source": [
    "# 7. Who are the most frequent collaborators (actor-director pairs) in high-rated movies?"
   ]
  },
  {
   "cell_type": "code",
   "execution_count": 24,
   "id": "57a5fb24",
   "metadata": {
    "execution": {
     "iopub.execute_input": "2024-10-23T12:57:17.636660Z",
     "iopub.status.busy": "2024-10-23T12:57:17.636226Z",
     "iopub.status.idle": "2024-10-23T12:57:17.651289Z",
     "shell.execute_reply": "2024-10-23T12:57:17.650357Z"
    },
    "papermill": {
     "duration": 0.033024,
     "end_time": "2024-10-23T12:57:17.653411",
     "exception": false,
     "start_time": "2024-10-23T12:57:17.620387",
     "status": "completed"
    },
    "tags": []
   },
   "outputs": [
    {
     "data": {
      "text/html": [
       "<div>\n",
       "<style scoped>\n",
       "    .dataframe tbody tr th:only-of-type {\n",
       "        vertical-align: middle;\n",
       "    }\n",
       "\n",
       "    .dataframe tbody tr th {\n",
       "        vertical-align: top;\n",
       "    }\n",
       "\n",
       "    .dataframe thead th {\n",
       "        text-align: right;\n",
       "    }\n",
       "</style>\n",
       "<table border=\"1\" class=\"dataframe\">\n",
       "  <thead>\n",
       "    <tr style=\"text-align: right;\">\n",
       "      <th></th>\n",
       "      <th>Director</th>\n",
       "      <th>Star1</th>\n",
       "      <th>count</th>\n",
       "    </tr>\n",
       "  </thead>\n",
       "  <tbody>\n",
       "    <tr>\n",
       "      <th>279</th>\n",
       "      <td>Joel Coen</td>\n",
       "      <td>Ethan Coen</td>\n",
       "      <td>6</td>\n",
       "    </tr>\n",
       "    <tr>\n",
       "      <th>368</th>\n",
       "      <td>Martin Scorsese</td>\n",
       "      <td>Robert De Niro</td>\n",
       "      <td>6</td>\n",
       "    </tr>\n",
       "    <tr>\n",
       "      <th>47</th>\n",
       "      <td>Anthony Russo</td>\n",
       "      <td>Joe Russo</td>\n",
       "      <td>4</td>\n",
       "    </tr>\n",
       "    <tr>\n",
       "      <th>101</th>\n",
       "      <td>Christopher Nolan</td>\n",
       "      <td>Christian Bale</td>\n",
       "      <td>4</td>\n",
       "    </tr>\n",
       "    <tr>\n",
       "      <th>471</th>\n",
       "      <td>Richard Linklater</td>\n",
       "      <td>Ethan Hawke</td>\n",
       "      <td>4</td>\n",
       "    </tr>\n",
       "    <tr>\n",
       "      <th>107</th>\n",
       "      <td>Clint Eastwood</td>\n",
       "      <td>Clint Eastwood</td>\n",
       "      <td>4</td>\n",
       "    </tr>\n",
       "    <tr>\n",
       "      <th>367</th>\n",
       "      <td>Martin Scorsese</td>\n",
       "      <td>Leonardo DiCaprio</td>\n",
       "      <td>3</td>\n",
       "    </tr>\n",
       "    <tr>\n",
       "      <th>508</th>\n",
       "      <td>Ron Clements</td>\n",
       "      <td>John Musker</td>\n",
       "      <td>3</td>\n",
       "    </tr>\n",
       "    <tr>\n",
       "      <th>145</th>\n",
       "      <td>David Yates</td>\n",
       "      <td>Daniel Radcliffe</td>\n",
       "      <td>3</td>\n",
       "    </tr>\n",
       "    <tr>\n",
       "      <th>443</th>\n",
       "      <td>Peter Jackson</td>\n",
       "      <td>Elijah Wood</td>\n",
       "      <td>3</td>\n",
       "    </tr>\n",
       "  </tbody>\n",
       "</table>\n",
       "</div>"
      ],
      "text/plain": [
       "              Director              Star1  count\n",
       "279          Joel Coen         Ethan Coen      6\n",
       "368    Martin Scorsese     Robert De Niro      6\n",
       "47       Anthony Russo          Joe Russo      4\n",
       "101  Christopher Nolan     Christian Bale      4\n",
       "471  Richard Linklater        Ethan Hawke      4\n",
       "107     Clint Eastwood     Clint Eastwood      4\n",
       "367    Martin Scorsese  Leonardo DiCaprio      3\n",
       "508       Ron Clements        John Musker      3\n",
       "145        David Yates   Daniel Radcliffe      3\n",
       "443      Peter Jackson        Elijah Wood      3"
      ]
     },
     "execution_count": 24,
     "metadata": {},
     "output_type": "execute_result"
    }
   ],
   "source": [
    "df.groupby(['Director', 'Star1']).size().reset_index(name='count').sort_values('count',ascending=False).head(10)"
   ]
  },
  {
   "cell_type": "markdown",
   "id": "9e6eba39",
   "metadata": {
    "papermill": {
     "duration": 0.014439,
     "end_time": "2024-10-23T12:57:17.682762",
     "exception": false,
     "start_time": "2024-10-23T12:57:17.668323",
     "status": "completed"
    },
    "tags": []
   },
   "source": [
    "# 8. Which genre has the highest average IMDb rating?"
   ]
  },
  {
   "cell_type": "code",
   "execution_count": 25,
   "id": "88c80e7c",
   "metadata": {
    "execution": {
     "iopub.execute_input": "2024-10-23T12:57:17.713706Z",
     "iopub.status.busy": "2024-10-23T12:57:17.713289Z",
     "iopub.status.idle": "2024-10-23T12:57:17.727617Z",
     "shell.execute_reply": "2024-10-23T12:57:17.726611Z"
    },
    "papermill": {
     "duration": 0.032189,
     "end_time": "2024-10-23T12:57:17.729605",
     "exception": false,
     "start_time": "2024-10-23T12:57:17.697416",
     "status": "completed"
    },
    "tags": []
   },
   "outputs": [
    {
     "data": {
      "text/html": [
       "<div>\n",
       "<style scoped>\n",
       "    .dataframe tbody tr th:only-of-type {\n",
       "        vertical-align: middle;\n",
       "    }\n",
       "\n",
       "    .dataframe tbody tr th {\n",
       "        vertical-align: top;\n",
       "    }\n",
       "\n",
       "    .dataframe thead th {\n",
       "        text-align: right;\n",
       "    }\n",
       "</style>\n",
       "<table border=\"1\" class=\"dataframe\">\n",
       "  <thead>\n",
       "    <tr style=\"text-align: right;\">\n",
       "      <th></th>\n",
       "      <th>Genre</th>\n",
       "      <th>mean</th>\n",
       "      <th>count</th>\n",
       "    </tr>\n",
       "  </thead>\n",
       "  <tbody>\n",
       "    <tr>\n",
       "      <th>0</th>\n",
       "      <td>Crime, Mystery, Thriller</td>\n",
       "      <td>8.50</td>\n",
       "      <td>1</td>\n",
       "    </tr>\n",
       "    <tr>\n",
       "      <th>1</th>\n",
       "      <td>Action, Sci-Fi</td>\n",
       "      <td>8.40</td>\n",
       "      <td>3</td>\n",
       "    </tr>\n",
       "    <tr>\n",
       "      <th>2</th>\n",
       "      <td>Horror, Sci-Fi</td>\n",
       "      <td>8.40</td>\n",
       "      <td>1</td>\n",
       "    </tr>\n",
       "    <tr>\n",
       "      <th>3</th>\n",
       "      <td>Drama, Horror</td>\n",
       "      <td>8.40</td>\n",
       "      <td>1</td>\n",
       "    </tr>\n",
       "    <tr>\n",
       "      <th>4</th>\n",
       "      <td>Drama, Mystery, War</td>\n",
       "      <td>8.35</td>\n",
       "      <td>2</td>\n",
       "    </tr>\n",
       "    <tr>\n",
       "      <th>5</th>\n",
       "      <td>Western</td>\n",
       "      <td>8.35</td>\n",
       "      <td>4</td>\n",
       "    </tr>\n",
       "    <tr>\n",
       "      <th>6</th>\n",
       "      <td>Mystery, Romance, Thriller</td>\n",
       "      <td>8.30</td>\n",
       "      <td>1</td>\n",
       "    </tr>\n",
       "    <tr>\n",
       "      <th>7</th>\n",
       "      <td>Crime, Drama, Sci-Fi</td>\n",
       "      <td>8.30</td>\n",
       "      <td>1</td>\n",
       "    </tr>\n",
       "    <tr>\n",
       "      <th>8</th>\n",
       "      <td>Comedy, Musical, Romance</td>\n",
       "      <td>8.30</td>\n",
       "      <td>1</td>\n",
       "    </tr>\n",
       "    <tr>\n",
       "      <th>9</th>\n",
       "      <td>Adventure, Mystery, Thriller</td>\n",
       "      <td>8.30</td>\n",
       "      <td>1</td>\n",
       "    </tr>\n",
       "  </tbody>\n",
       "</table>\n",
       "</div>"
      ],
      "text/plain": [
       "                          Genre  mean  count\n",
       "0      Crime, Mystery, Thriller  8.50      1\n",
       "1                Action, Sci-Fi  8.40      3\n",
       "2                Horror, Sci-Fi  8.40      1\n",
       "3                 Drama, Horror  8.40      1\n",
       "4           Drama, Mystery, War  8.35      2\n",
       "5                       Western  8.35      4\n",
       "6    Mystery, Romance, Thriller  8.30      1\n",
       "7          Crime, Drama, Sci-Fi  8.30      1\n",
       "8      Comedy, Musical, Romance  8.30      1\n",
       "9  Adventure, Mystery, Thriller  8.30      1"
      ]
     },
     "execution_count": 25,
     "metadata": {},
     "output_type": "execute_result"
    }
   ],
   "source": [
    "df.groupby('Genre')['IMDB_Rating'].agg(['mean','count']).sort_values('mean',ascending=False).reset_index().head(10)"
   ]
  },
  {
   "cell_type": "markdown",
   "id": "8045da7d",
   "metadata": {
    "papermill": {
     "duration": 0.014765,
     "end_time": "2024-10-23T12:57:17.759590",
     "exception": false,
     "start_time": "2024-10-23T12:57:17.744825",
     "status": "completed"
    },
    "tags": []
   },
   "source": [
    "# 9. Which director has directed the most high-grossing movies?"
   ]
  },
  {
   "cell_type": "code",
   "execution_count": 26,
   "id": "2ee0e633",
   "metadata": {
    "execution": {
     "iopub.execute_input": "2024-10-23T12:57:17.791164Z",
     "iopub.status.busy": "2024-10-23T12:57:17.790785Z",
     "iopub.status.idle": "2024-10-23T12:57:17.801124Z",
     "shell.execute_reply": "2024-10-23T12:57:17.799947Z"
    },
    "papermill": {
     "duration": 0.02869,
     "end_time": "2024-10-23T12:57:17.803118",
     "exception": false,
     "start_time": "2024-10-23T12:57:17.774428",
     "status": "completed"
    },
    "tags": []
   },
   "outputs": [
    {
     "data": {
      "text/plain": [
       "Director    Steven Spielberg\n",
       "Gross             2478133165\n",
       "Name: 0, dtype: object"
      ]
     },
     "execution_count": 26,
     "metadata": {},
     "output_type": "execute_result"
    }
   ],
   "source": [
    "df.groupby('Director')['Gross'].sum().sort_values(ascending=False).reset_index().loc[0]"
   ]
  },
  {
   "cell_type": "markdown",
   "id": "5476a5dc",
   "metadata": {
    "papermill": {
     "duration": 0.014809,
     "end_time": "2024-10-23T12:57:17.832935",
     "exception": false,
     "start_time": "2024-10-23T12:57:17.818126",
     "status": "completed"
    },
    "tags": []
   },
   "source": [
    "# 10. The relationship between Release Year and IMDB Rating between the 80s till Present"
   ]
  },
  {
   "cell_type": "code",
   "execution_count": 27,
   "id": "ce0ca9a4",
   "metadata": {
    "execution": {
     "iopub.execute_input": "2024-10-23T12:57:17.864927Z",
     "iopub.status.busy": "2024-10-23T12:57:17.864176Z",
     "iopub.status.idle": "2024-10-23T12:57:18.079411Z",
     "shell.execute_reply": "2024-10-23T12:57:18.078437Z"
    },
    "papermill": {
     "duration": 0.233578,
     "end_time": "2024-10-23T12:57:18.081478",
     "exception": false,
     "start_time": "2024-10-23T12:57:17.847900",
     "status": "completed"
    },
    "tags": []
   },
   "outputs": [
    {
     "data": {
      "image/png": "[encoded data removed]",
      "text/plain": [
       "<Figure size 640x480 with 1 Axes>"
      ]
     },
     "metadata": {},
     "output_type": "display_data"
    }
   ],
   "source": [
    "df_80s = df[df['Released_Year'] >= 1980]\n",
    "\n",
    "sns.lineplot(x='Released_Year',y='IMDB_Rating', data=df_80s, errorbar=None)\n",
    "plt.xticks(rotation=90)\n",
    "plt.show()"
   ]
  },
  {
   "cell_type": "code",
   "execution_count": null,
   "id": "69acd148",
   "metadata": {
    "papermill": {
     "duration": 0.015565,
     "end_time": "2024-10-23T12:57:18.112848",
     "exception": false,
     "start_time": "2024-10-23T12:57:18.097283",
     "status": "completed"
    },
    "tags": []
   },
   "outputs": [],
   "source": []
  },
  {
   "cell_type": "code",
   "execution_count": null,
   "id": "8ac9e2fd",
   "metadata": {
    "papermill": {
     "duration": 0.015341,
     "end_time": "2024-10-23T12:57:18.143790",
     "exception": false,
     "start_time": "2024-10-23T12:57:18.128449",
     "status": "completed"
    },
    "tags": []
   },
   "outputs": [],
   "source": []
  },
  {
   "cell_type": "code",
   "execution_count": null,
   "id": "ff93aff7",
   "metadata": {
    "papermill": {
     "duration": 0.015352,
     "end_time": "2024-10-23T12:57:18.174918",
     "exception": false,
     "start_time": "2024-10-23T12:57:18.159566",
     "status": "completed"
    },
    "tags": []
   },
   "outputs": [],
   "source": []
  }
 ],
 "metadata": {
  "kaggle": {
   "accelerator": "none",
   "dataSources": [
    {
     "datasetId": 1131493,
     "sourceId": 1898721,
     "sourceType": "datasetVersion"
    }
   ],
   "dockerImageVersionId": 30786,
   "isGpuEnabled": false,
   "isInternetEnabled": false,
   "language": "python",
   "sourceType": "notebook"
  },
  "kernelspec": {
   "display_name": "Python 3",
   "language": "python",
   "name": "python3"
  },
  "language_info": {
   "codemirror_mode": {
    "name": "ipython",
    "version": 3
   },
   "file_extension": ".py",
   "mimetype": "text/x-python",
   "name": "python",
   "nbconvert_exporter": "python",
   "pygments_lexer": "ipython3",
   "version": "3.10.14"
  },
  "papermill": {
   "default_parameters": {},
   "duration": 8.478992,
   "end_time": "2024-10-23T12:57:18.810687",
   "environment_variables": {},
   "exception": null,
   "input_path": "__notebook__.ipynb",
   "output_path": "__notebook__.ipynb",
   "parameters": {},
   "start_time": "2024-10-23T12:57:10.331695",
   "version": "2.6.0"
  }
 },
 "nbformat": 4,
 "nbformat_minor": 5
}
